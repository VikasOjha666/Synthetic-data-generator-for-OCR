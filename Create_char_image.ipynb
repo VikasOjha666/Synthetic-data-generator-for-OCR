{
 "cells": [
  {
   "cell_type": "code",
   "execution_count": 33,
   "metadata": {},
   "outputs": [],
   "source": [
    "import cv2\n",
    "import numpy as np\n",
    "import matplotlib.pyplot as plt\n",
    "\n",
    "%matplotlib inline\n",
    "\n",
    "char_list_u=['A','B','C','D','E','F','G','H','I','J','K','L','M','N','O','P','O','P','Q','R','S','T','U','V','W','X','Y','Z']\n",
    "\n",
    "char_list_l=['a','b','c','d','e','f','g','h','i','j','k','l','m','n','o','p','q','r','s','t','u','v','w','x','y','z']\n",
    "\n",
    "for char in char_list_l:\n",
    "    img=np.ones((25,25,3))\n",
    "    img.fill(255)\n",
    "    font=cv2.FONT_HERSHEY_SIMPLEX\n",
    "    cv2.putText(img,text=char,org=(3,21),fontFace=font,fontScale=1,color=(0,0,0),thickness=1,lineType=cv2.LINE_AA)\n",
    "    cv2.imwrite('./objects/'+char+'.jpg',img)\n",
    "    \n",
    "\n",
    "\n",
    "\n"
   ]
  },
  {
   "cell_type": "code",
   "execution_count": 12,
   "metadata": {},
   "outputs": [
    {
     "name": "stderr",
     "output_type": "stream",
     "text": [
      "Clipping input data to the valid range for imshow with RGB data ([0..1] for floats or [0..255] for integers).\n"
     ]
    },
    {
     "data": {
      "text/plain": [
       "True"
      ]
     },
     "execution_count": 12,
     "metadata": {},
     "output_type": "execute_result"
    },
    {
     "data": {
      "image/png": "[encoded data removed]",
      "text/plain": [
       "<Figure size 432x288 with 1 Axes>"
      ]
     },
     "metadata": {
      "needs_background": "light"
     },
     "output_type": "display_data"
    }
   ],
   "source": [
    "import cv2\n",
    "import numpy as np\n",
    "import matplotlib.pyplot as plt\n",
    "\n",
    "%matplotlib inline\n",
    "\n",
    "img=np.zeros((25,25,3))\n",
    "img.fill(255)\n",
    "font=cv2.FONT_HERSHEY_SIMPLEX\n",
    "cv2.putText(img,text='j',org=(3,15),fontFace=font,fontScale=1,color=(0,0,0),thickness=1,lineType=cv2.LINE_AA)\n",
    "plt.imshow(img)\n",
    "cv2.imwrite('./objects/lower/j.jpg',img)"
   ]
  },
  {
   "cell_type": "code",
   "execution_count": 10,
   "metadata": {},
   "outputs": [],
   "source": [
    "import xml.etree.ElementTree as ET\n",
    "import numpy as np\n",
    "import cv2\n",
    "import matplotlib.pyplot as plt\n",
    "\n",
    "\n",
    "boxes=[]\n",
    "label=[]\n",
    "\n",
    "img=cv2.imread('./generated_data/Images/1.jpg')\n",
    "data=ET.parse('./generated_Data/Annotations/1.xml').findall('object')\n",
    "for obj in data:\n",
    "    name=obj.find('name').text.lower().strip()\n",
    "    bndbox=obj.find('bndbox')\n",
    "    xmin = (float(bndbox.find('xmin').text)) \n",
    "    ymin = (float(bndbox.find('ymin').text)) \n",
    "    xmax = (float(bndbox.find('xmax').text)) \n",
    "    ymax = (float(bndbox.find('ymax').text)) \n",
    "    boxes.append([xmin, ymin, xmax, ymax])\n",
    "    label.append(name)\n",
    "\n",
    "\n"
   ]
  },
  {
   "cell_type": "code",
   "execution_count": 14,
   "metadata": {},
   "outputs": [
    {
     "data": {
      "text/plain": [
       "[104.0, 0.0, 129.0, 25.0]"
      ]
     },
     "execution_count": 14,
     "metadata": {},
     "output_type": "execute_result"
    }
   ],
   "source": [
    "boxes[4]"
   ]
  },
  {
   "cell_type": "code",
   "execution_count": 17,
   "metadata": {},
   "outputs": [
    {
     "data": {
      "text/plain": [
       "<matplotlib.image.AxesImage at 0x1c1aeb6cb00>"
      ]
     },
     "execution_count": 17,
     "metadata": {},
     "output_type": "execute_result"
    },
    {
     "data": {
      "image/png": "[encoded data removed]",
      "text/plain": [
       "<Figure size 432x288 with 1 Axes>"
      ]
     },
     "metadata": {
      "needs_background": "light"
     },
     "output_type": "display_data"
    }
   ],
   "source": [
    "img=cv2.rectangle(img,(104,0),(129,25),color=(255,0,0),thickness=3)\n",
    "plt.imshow(img)"
   ]
  },
  {
   "cell_type": "code",
   "execution_count": null,
   "metadata": {},
   "outputs": [],
   "source": []
  }
 ],
 "metadata": {
  "kernelspec": {
   "display_name": "TensorFlow-GPU",
   "language": "python",
   "name": "tensorflow"
  },
  "language_info": {
   "codemirror_mode": {
    "name": "ipython",
    "version": 3
   },
   "file_extension": ".py",
   "mimetype": "text/x-python",
   "name": "python",
   "nbconvert_exporter": "python",
   "pygments_lexer": "ipython3",
   "version": "3.6.8"
  }
 },
 "nbformat": 4,
 "nbformat_minor": 2
}
